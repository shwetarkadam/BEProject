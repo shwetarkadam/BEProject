{
  "nbformat": 4,
  "nbformat_minor": 0,
  "metadata": {
    "colab": {
      "name": "rnn.ipynb",
      "version": "0.3.2",
      "provenance": [],
      "collapsed_sections": []
    },
    "kernelspec": {
      "name": "python3",
      "display_name": "Python 3"
    }
  },
  "cells": [
    {
      "metadata": {
        "id": "YUDZq5Ya6eQm",
        "colab_type": "code",
        "outputId": "34d50363-022f-4514-be9c-368da2f02f91",
        "colab": {
          "base_uri": "https://localhost:8080/",
          "height": 34
        }
      },
      "cell_type": "code",
      "source": [
        "import pandas as pd\n",
        "import numpy as np\n",
        "import matplotlib.pyplot as plt\n",
        "\n",
        "from google.colab import drive\n",
        "drive.mount('/surajpal')"
      ],
      "execution_count": 0,
      "outputs": [
        {
          "output_type": "stream",
          "text": [
            "Drive already mounted at /surajpal; to attempt to forcibly remount, call drive.mount(\"/surajpal\", force_remount=True).\n"
          ],
          "name": "stdout"
        }
      ]
    },
    {
      "metadata": {
        "id": "LU2LaNb-7Krm",
        "colab_type": "code",
        "colab": {}
      },
      "cell_type": "code",
      "source": [
        "df = pd.read_csv(\"/surajpal/My Drive/dataset1.1.csv\")\n",
        "review_text = df[\"review_text\"]\n",
        "good, bad = df['good'], df['bad']"
      ],
      "execution_count": 0,
      "outputs": []
    },
    {
      "metadata": {
        "id": "Di4y08Yb8NHw",
        "colab_type": "code",
        "colab": {}
      },
      "cell_type": "code",
      "source": [
        "review_quality = []\n",
        "if (len(good) == len(bad)):\n",
        "  for i in range(0, len(good)):\n",
        "    if (good[i] == 0 and bad[i] == 0):\n",
        "      review_quality.append([0, 0])\n",
        "    elif (good[i] == 0 and bad[i] == 1):\n",
        "      review_quality.append([0, 1])\n",
        "    elif (good[i] == 1 and bad[i] == 0):\n",
        "      review_quality.append([1, 0])"
      ],
      "execution_count": 0,
      "outputs": []
    },
    {
      "metadata": {
        "id": "ef4Knyl1FLsd",
        "colab_type": "code",
        "colab": {}
      },
      "cell_type": "code",
      "source": [
        "from sklearn.model_selection import train_test_split\n",
        "x_train, x_test, y_train, y_test = train_test_split(review_text, review_quality, test_size=0.2, random_state=1)\n",
        "\n",
        "y_train = np.array(y_train)\n",
        "y_test = np.array(y_test)"
      ],
      "execution_count": 0,
      "outputs": []
    },
    {
      "metadata": {
        "id": "IdetgFm6FR51",
        "colab_type": "code",
        "colab": {}
      },
      "cell_type": "code",
      "source": [
        "from sklearn.feature_extraction.text import TfidfVectorizer\n",
        "\n",
        "vectorizer = TfidfVectorizer()\n",
        "vectorizer.fit(x_train)\n",
        "vectorizer.fit(x_test)\n",
        "\n",
        "x_train = vectorizer.transform(x_train)\n",
        "x_test = vectorizer.transform(x_test)"
      ],
      "execution_count": 0,
      "outputs": []
    },
    {
      "metadata": {
        "id": "3RxRYHFikPQw",
        "colab_type": "code",
        "outputId": "3bf89e06-3b41-4e08-9a7b-59937d397d4a",
        "colab": {
          "base_uri": "https://localhost:8080/",
          "height": 85
        }
      },
      "cell_type": "code",
      "source": [
        "print(x_train.shape)\n",
        "print(x_test.shape)\n",
        "print(y_train.shape)\n",
        "print(y_test.shape)"
      ],
      "execution_count": 0,
      "outputs": [
        {
          "output_type": "stream",
          "text": [
            "(24000, 21508)\n",
            "(6000, 21508)\n",
            "(24000, 2)\n",
            "(6000, 2)\n"
          ],
          "name": "stdout"
        }
      ]
    },
    {
      "metadata": {
        "id": "C7xL1jBblhhi",
        "colab_type": "code",
        "colab": {}
      },
      "cell_type": "code",
      "source": [
        "x_train = np.reshape(x_train.toarray(), (24000, 1, 21508))\n",
        "x_test = np.reshape(x_test.toarray(), (6000, 1, 21508))"
      ],
      "execution_count": 0,
      "outputs": []
    },
    {
      "metadata": {
        "id": "YMBJYNRxnuTQ",
        "colab_type": "code",
        "outputId": "de81e1c9-7eb2-483f-9d00-ff572b38e93c",
        "colab": {
          "base_uri": "https://localhost:8080/",
          "height": 306
        }
      },
      "cell_type": "code",
      "source": [
        "print(x_train.shape)\n",
        "print(x_test.shape)\n",
        "print(y_train.shape)\n",
        "print(y_test.shape)\n",
        "print(x_train)"
      ],
      "execution_count": 0,
      "outputs": [
        {
          "output_type": "stream",
          "text": [
            "(24000, 1, 21508)\n",
            "(6000, 1, 21508)\n",
            "(24000, 2)\n",
            "(6000, 2)\n",
            "[[[0. 0. 0. ... 0. 0. 0.]]\n",
            "\n",
            " [[0. 0. 0. ... 0. 0. 0.]]\n",
            "\n",
            " [[0. 0. 0. ... 0. 0. 0.]]\n",
            "\n",
            " ...\n",
            "\n",
            " [[0. 0. 0. ... 0. 0. 0.]]\n",
            "\n",
            " [[0. 0. 0. ... 0. 0. 0.]]\n",
            "\n",
            " [[0. 0. 0. ... 0. 0. 0.]]]\n"
          ],
          "name": "stdout"
        }
      ]
    },
    {
      "metadata": {
        "id": "uAKtv--KFh9S",
        "colab_type": "code",
        "colab": {}
      },
      "cell_type": "code",
      "source": [
        "from keras.models import Sequential\n",
        "from keras.layers import Dense, LSTM"
      ],
      "execution_count": 0,
      "outputs": []
    },
    {
      "metadata": {
        "id": "h1WsKGvpJ80V",
        "colab_type": "code",
        "colab": {}
      },
      "cell_type": "code",
      "source": [
        "classifier = Sequential()\n",
        "classifier.add(LSTM(units = 6, activation = 'sigmoid', input_shape = (1, len(vectorizer.vocabulary_))))\n",
        "classifier.add(Dense(units = 2, activation = 'sigmoid'))"
      ],
      "execution_count": 0,
      "outputs": []
    },
    {
      "metadata": {
        "id": "eDsD0abIL2RE",
        "colab_type": "code",
        "colab": {}
      },
      "cell_type": "code",
      "source": [
        "classifier.compile(optimizer = 'rmsprop', loss = 'categorical_crossentropy')"
      ],
      "execution_count": 0,
      "outputs": []
    },
    {
      "metadata": {
        "id": "7zIBCvEtgvgm",
        "colab_type": "code",
        "outputId": "11dd0c5d-fe59-460f-fb12-0e4277885e20",
        "colab": {
          "base_uri": "https://localhost:8080/",
          "height": 68
        }
      },
      "cell_type": "code",
      "source": [
        "classifier.fit(x_train, y_train, batch_size = 32, epochs = 1)"
      ],
      "execution_count": 0,
      "outputs": [
        {
          "output_type": "stream",
          "text": [
            "Epoch 1/1\n",
            "24000/24000 [==============================] - 24s 985us/step - loss: 0.4603\n"
          ],
          "name": "stdout"
        },
        {
          "output_type": "execute_result",
          "data": {
            "text/plain": [
              "<keras.callbacks.History at 0x7f092859e940>"
            ]
          },
          "metadata": {
            "tags": []
          },
          "execution_count": 65
        }
      ]
    },
    {
      "metadata": {
        "id": "NdzOWnagpm0K",
        "colab_type": "code",
        "outputId": "649690ea-8f69-479c-b5a1-4beb7cfe9df1",
        "colab": {
          "base_uri": "https://localhost:8080/",
          "height": 34
        }
      },
      "cell_type": "code",
      "source": [
        "predicted_y_test = classifier.predict(x_test)\n",
        "type(predicted_y_test)"
      ],
      "execution_count": 0,
      "outputs": [
        {
          "output_type": "execute_result",
          "data": {
            "text/plain": [
              "numpy.ndarray"
            ]
          },
          "metadata": {
            "tags": []
          },
          "execution_count": 66
        }
      ]
    },
    {
      "metadata": {
        "id": "Z2-sf9hFl6Iz",
        "colab_type": "code",
        "outputId": "7b02b723-b975-4c05-fd36-de3cab35362f",
        "colab": {
          "base_uri": "https://localhost:8080/",
          "height": 136
        }
      },
      "cell_type": "code",
      "source": [
        "predicted_y_test"
      ],
      "execution_count": 0,
      "outputs": [
        {
          "output_type": "execute_result",
          "data": {
            "text/plain": [
              "array([[0.47926378, 0.4587351 ],\n",
              "       [0.47913796, 0.4586632 ],\n",
              "       [0.4751879 , 0.45849434],\n",
              "       ...,\n",
              "       [0.48514748, 0.45887816],\n",
              "       [0.4879972 , 0.45734486],\n",
              "       [0.4812467 , 0.45882177]], dtype=float32)"
            ]
          },
          "metadata": {
            "tags": []
          },
          "execution_count": 67
        }
      ]
    },
    {
      "metadata": {
        "id": "LLzfjUtSqwhE",
        "colab_type": "code",
        "outputId": "cf7807ea-b85f-47c5-d2df-b67b24e120ce",
        "colab": {
          "base_uri": "https://localhost:8080/",
          "height": 136
        }
      },
      "cell_type": "code",
      "source": [
        "for i in range(0, len(predicted_y_test)):\n",
        "  if (predicted_y_test[i][0] > 0.5):\n",
        "    predicted_y_test[i][0] = True\n",
        "  else:\n",
        "    predicted_y_test[i][0] = False\n",
        "  if (predicted_y_test[i][1] > 0.5):\n",
        "    predicted_y_test[i][1] = True\n",
        "  else:\n",
        "    predicted_y_test[i][1] = False\n",
        "print(predicted_y_test)"
      ],
      "execution_count": 0,
      "outputs": [
        {
          "output_type": "stream",
          "text": [
            "[[0. 0.]\n",
            " [0. 0.]\n",
            " [0. 0.]\n",
            " ...\n",
            " [0. 0.]\n",
            " [0. 0.]\n",
            " [0. 0.]]\n"
          ],
          "name": "stdout"
        }
      ]
    },
    {
      "metadata": {
        "id": "66e5sQH6qPkW",
        "colab_type": "code",
        "outputId": "0b5c41ae-d20c-4da0-f9ef-f65d98509f5b",
        "colab": {
          "base_uri": "https://localhost:8080/",
          "height": 34
        }
      },
      "cell_type": "code",
      "source": [
        "from sklearn import metrics\n",
        "print(\"% Accuracy\", metrics.accuracy_score(predicted_y_test, y_test))"
      ],
      "execution_count": 0,
      "outputs": [
        {
          "output_type": "stream",
          "text": [
            "% Accuracy 0.341\n"
          ],
          "name": "stdout"
        }
      ]
    }
  ]
}