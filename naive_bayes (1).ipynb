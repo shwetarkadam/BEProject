{
  "nbformat": 4,
  "nbformat_minor": 0,
  "metadata": {
    "colab": {
      "name": "naive_bayes",
      "version": "0.3.2",
      "provenance": [],
      "collapsed_sections": []
    },
    "kernelspec": {
      "name": "python3",
      "display_name": "Python 3"
    }
  },
  "cells": [
    {
      "metadata": {
        "id": "EflezM-xYRlG",
        "colab_type": "code",
        "colab": {}
      },
      "cell_type": "code",
      "source": [
        "from google.colab import drive\n",
        "drive.mount('/surajpal')"
      ],
      "execution_count": 0,
      "outputs": []
    },
    {
      "metadata": {
        "id": "-pJNVI6syDuu",
        "colab_type": "code",
        "colab": {}
      },
      "cell_type": "code",
      "source": [
        "import pandas as pd\n",
        "import numpy as np\n",
        "\n",
        "df = pd.read_csv(\"/surajpal/My Drive/dataset1.1.csv\")\n",
        "\n",
        "review_text = df['review_text']\n",
        "good, bad = df['good'], df['bad']\n",
        "\n",
        "\n"
      ],
      "execution_count": 0,
      "outputs": []
    },
    {
      "metadata": {
        "id": "vLF9u9Zf59Sx",
        "colab_type": "code",
        "colab": {}
      },
      "cell_type": "code",
      "source": [
        "review_quality = []\n",
        "if (len(good) == len(bad)):\n",
        "  for i in range(0, len(good)):\n",
        "    if (good[i] == 0 and bad[i] == 0):\n",
        "      review_quality.append(0)\n",
        "    elif (good[i] == 0 and bad[i] == 1):\n",
        "      review_quality.append(1)\n",
        "    elif (good[i] == 1 and bad[i] == 0):\n",
        "      review_quality.append(2)"
      ],
      "execution_count": 0,
      "outputs": []
    },
    {
      "metadata": {
        "id": "XJcfhTq96Nya",
        "colab_type": "code",
        "colab": {}
      },
      "cell_type": "code",
      "source": [
        "from sklearn.model_selection import train_test_split\n",
        "x_train, x_test, y_train, y_test = train_test_split(review_text, review_quality, test_size=0.4, random_state=1)"
      ],
      "execution_count": 0,
      "outputs": []
    },
    {
      "metadata": {
        "id": "LAhdNGHZ6PNM",
        "colab_type": "code",
        "outputId": "b4c67b95-79d4-44e4-9344-165e235b072b",
        "colab": {
          "base_uri": "https://localhost:8080/",
          "height": 884
        }
      },
      "cell_type": "code",
      "source": [
        "from sklearn.feature_extraction.text import TfidfVectorizer\n",
        "\n",
        "vectorizer = TfidfVectorizer()\n",
        "vectorizer.fit(x_train)\n",
        "vectorizer.fit(x_test)\n",
        "\n",
        "x_train = vectorizer.transform(x_train)\n",
        "x_test = vectorizer.transform(x_test)\n",
        "\n",
        "print(type(x_train), x_train)"
      ],
      "execution_count": 0,
      "outputs": [
        {
          "output_type": "stream",
          "text": [
            "<class 'scipy.sparse.csr.csr_matrix'>   (0, 30007)\t0.07290968783851191\n",
            "  (0, 29982)\t0.10199117050170102\n",
            "  (0, 29718)\t0.13855730036027633\n",
            "  (0, 29539)\t0.06953998422911924\n",
            "  (0, 28997)\t0.22047232355422566\n",
            "  (0, 27072)\t0.07530316837591763\n",
            "  (0, 24850)\t0.14207008971441676\n",
            "  (0, 23111)\t0.3151148618166074\n",
            "  (0, 20711)\t0.10160992570646603\n",
            "  (0, 20430)\t0.3430881788193537\n",
            "  (0, 20425)\t0.1862293396710373\n",
            "  (0, 19479)\t0.28288694987733076\n",
            "  (0, 18795)\t0.15490425614225692\n",
            "  (0, 16802)\t0.39905011031583193\n",
            "  (0, 16572)\t0.23545554952874534\n",
            "  (0, 15836)\t0.16182265336245671\n",
            "  (0, 15659)\t0.18730964137847828\n",
            "  (0, 14848)\t0.18418184569813004\n",
            "  (0, 12337)\t0.34706674033317525\n",
            "  (0, 9881)\t0.09807462172108881\n",
            "  (0, 5055)\t0.14606467306386306\n",
            "  (0, 4020)\t0.19208186268406688\n",
            "  (0, 378)\t0.1468786276093675\n",
            "  (1, 26856)\t0.22377228018776424\n",
            "  (1, 25394)\t0.14597778836600794\n",
            "  :\t:\n",
            "  (17999, 15174)\t0.06697407688666608\n",
            "  (17999, 15040)\t0.12679714443884357\n",
            "  (17999, 15022)\t0.12818492650848146\n",
            "  (17999, 12428)\t0.13233747565090467\n",
            "  (17999, 12052)\t0.13017081410357711\n",
            "  (17999, 11209)\t0.05040481186533712\n",
            "  (17999, 10901)\t0.2729080953316908\n",
            "  (17999, 10477)\t0.0978986660275351\n",
            "  (17999, 10104)\t0.2213570067436729\n",
            "  (17999, 9570)\t0.07810982895559328\n",
            "  (17999, 9269)\t0.09520748416859068\n",
            "  (17999, 8450)\t0.15000808896700527\n",
            "  (17999, 5665)\t0.2087060464858788\n",
            "  (17999, 5334)\t0.0963894011930472\n",
            "  (17999, 5179)\t0.13784182973548328\n",
            "  (17999, 5140)\t0.07787822077191672\n",
            "  (17999, 4993)\t0.1014959697660072\n",
            "  (17999, 4181)\t0.15251744497152542\n",
            "  (17999, 4178)\t0.2186685792506441\n",
            "  (17999, 4174)\t0.09908519144789284\n",
            "  (17999, 3129)\t0.15633630243662686\n",
            "  (17999, 3093)\t0.10144425019331683\n",
            "  (17999, 3036)\t0.08467873860579865\n",
            "  (17999, 1510)\t0.14088641846375188\n",
            "  (17999, 1252)\t0.0975013413638933\n"
          ],
          "name": "stdout"
        }
      ]
    },
    {
      "metadata": {
        "id": "01ilCFWF6VXk",
        "colab_type": "code",
        "outputId": "c26f8693-5832-42f0-9405-52952956fdf1",
        "colab": {
          "base_uri": "https://localhost:8080/",
          "height": 34
        }
      },
      "cell_type": "code",
      "source": [
        "from sklearn.naive_bayes import GaussianNB \n",
        "gnb = GaussianNB() \n",
        "gnb.fit(x_train.toarray(), y_train) \n",
        "  \n",
        "\n",
        "y_pred = gnb.predict(x_test.toarray()) \n",
        "  \n",
        "from sklearn import metrics \n",
        "print(\"Gaussian Naive Bayes model accuracy(in %):\", metrics.accuracy_score(y_test, y_pred))"
      ],
      "execution_count": 0,
      "outputs": [
        {
          "output_type": "stream",
          "text": [
            "Gaussian Naive Bayes model accuracy(in %): 0.39158333333333334\n"
          ],
          "name": "stdout"
        }
      ]
    },
    {
      "metadata": {
        "id": "45ZoXDE27BHb",
        "colab_type": "code",
        "outputId": "3c8c5541-f0c0-4115-b9ba-a706e30bc679",
        "colab": {
          "base_uri": "https://localhost:8080/",
          "height": 34
        }
      },
      "cell_type": "code",
      "source": [
        "from sklearn.naive_bayes import BernoulliNB\n",
        "bnb = BernoulliNB() \n",
        "bnb.fit(x_train.toarray(), y_train) \n",
        "  \n",
        "\n",
        "y_pred = bnb.predict(x_test.toarray()) \n",
        "  \n",
        "from sklearn import metrics \n",
        "print(\"Bernoulli Naive Bayes model accuracy(in %):\", metrics.accuracy_score(y_test, y_pred))"
      ],
      "execution_count": 0,
      "outputs": [
        {
          "output_type": "stream",
          "text": [
            "Bernoulli Naive Bayes model accuracy(in %): 0.4394166666666667\n"
          ],
          "name": "stdout"
        }
      ]
    },
    {
      "metadata": {
        "id": "mHf06HW_7YBc",
        "colab_type": "code",
        "outputId": "b190f709-abc7-4912-feb2-8ca73f13eb02",
        "colab": {
          "base_uri": "https://localhost:8080/",
          "height": 34
        }
      },
      "cell_type": "code",
      "source": [
        "from sklearn.naive_bayes import MultinomialNB \n",
        "mnb = MultinomialNB() \n",
        "mnb.fit(x_train.toarray(), y_train) \n",
        "  \n",
        "\n",
        "y_pred = mnb.predict(x_test.toarray()) \n",
        "  \n",
        "from sklearn import metrics \n",
        "print(\"Multinomail Naive Bayes model accuracy(in %):\", metrics.accuracy_score(y_test, y_pred))"
      ],
      "execution_count": 0,
      "outputs": [
        {
          "output_type": "stream",
          "text": [
            "Multinomail Naive Bayes model accuracy(in %): 0.4205833333333333\n"
          ],
          "name": "stdout"
        }
      ]
    },
    {
      "metadata": {
        "id": "sz3D8wvG7unN",
        "colab_type": "code",
        "outputId": "f7a7e68f-efe2-4a84-c77d-0c6310c15e2b",
        "colab": {
          "base_uri": "https://localhost:8080/",
          "height": 34
        }
      },
      "cell_type": "code",
      "source": [
        "from sklearn.naive_bayes import ComplementNB \n",
        "cnb = ComplementNB() \n",
        "cnb.fit(x_train.toarray(), y_train) \n",
        "  \n",
        "\n",
        "y_pred = cnb.predict(x_test.toarray()) \n",
        "  \n",
        "from sklearn import metrics \n",
        "print(\"Complement Naive Bayes model accuracy(in %):\", metrics.accuracy_score(y_test, y_pred))"
      ],
      "execution_count": 0,
      "outputs": [
        {
          "output_type": "stream",
          "text": [
            "Complement Naive Bayes model accuracy(in %): 0.4256666666666667\n"
          ],
          "name": "stdout"
        }
      ]
    }
  ]
}